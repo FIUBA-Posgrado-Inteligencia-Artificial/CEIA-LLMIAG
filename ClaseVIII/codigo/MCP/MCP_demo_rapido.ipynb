{
 "cells": [
  {
   "cell_type": "markdown",
   "id": "51d9dc94",
   "metadata": {},
   "source": [
    "\n",
    "# MCP — Demo rápido (Server + Client en una sola notebook)\n",
    "\n",
    "**Objetivo:** mostrar, en ~10 minutos, cómo levantar un **Servidor MCP** con `FastMCP` y consumir sus **Tools**, **Resources** y **Prompts** desde un **Cliente MCP**.  \n",
    "Funciona localmente y no requiere Claude/IDE externos.\n",
    "\n",
    "> Basado en el SDK oficial de MCP para Python y su Quickstart. Ver referencias al final.\n"
   ]
  },
  {
   "cell_type": "markdown",
   "id": "00a4389d",
   "metadata": {},
   "source": [
    "\n",
    "## 1) Instalación (una sola vez por entorno)\n",
    "\n",
    "Ejecutá la celda de abajo si aún no tenés el SDK de MCP. En algunos entornos puede pedirse reiniciar el kernel tras instalar.\n"
   ]
  },
  {
   "cell_type": "code",
   "execution_count": null,
   "id": "000cb147",
   "metadata": {},
   "outputs": [],
   "source": [
    "\n",
    "# Si ya lo tenés instalado, podés saltarte esta celda.\n",
    "# Recomendado: entorno virtual (uv, venv, conda). Aquí usamos pip por simplicidad.\n",
    "# Nota: ejecutá y, si lo pide, reiniciá el kernel.\n",
    "# !pip install -q \"mcp[cli]\" nest_asyncio\n"
   ]
  },
  {
   "cell_type": "markdown",
   "id": "cf44f879",
   "metadata": {},
   "source": [
    "\n",
    "## 2) Definir y lanzar un **Servidor MCP** (FastMCP)\n",
    "\n",
    "Vamos a exponer tres capacidades:\n",
    "- **Tool** `add(a, b)`: suma dos números.\n",
    "- **Resource** `greeting://{name}`: devuelve un saludo dinámico.\n",
    "- **Prompt** `greet_user(name, style)`: genera un *prompt* reutilizable.\n",
    "\n",
    "Lo ejecutamos con **Streamable HTTP** en `http://127.0.0.1:8000/mcp` para que el cliente se conecte desde esta misma notebook.\n"
   ]
  },
  {
   "cell_type": "markdown",
   "id": "dd9edfb2",
   "metadata": {},
   "source": [
    "## 3)  EJECUTAR 'python server_mcp.py' para levantar el servidor en http://127.0.0.1:8000/mcp"
   ]
  },
  {
   "cell_type": "markdown",
   "id": "2fbf4227",
   "metadata": {},
   "source": [
    "\n",
    "## 4) Cliente MCP: descubrimiento e invocaciones\n",
    "\n",
    "Nos conectamos al servidor vía **Streamable HTTP**, listamos capacidades y ejecutamos:\n",
    "1. `list_tools()` ➜ herramientas disponibles  \n",
    "2. `call_tool(\"add\", {\"a\": 5, \"b\": 7})`  \n",
    "3. `list_resources()` y `read_resource(\"greeting://Eze\")`  \n",
    "4. `list_prompts()` y `get_prompt(\"greet_user\", {\"name\": \"Ada\", \"style\": \"formal\"})`\n"
   ]
  },
  {
   "cell_type": "code",
   "execution_count": 1,
   "id": "ff50877a",
   "metadata": {},
   "outputs": [
    {
     "name": "stdout",
     "output_type": "stream",
     "text": [
      "🔗 Conectado al servidor MCP\n",
      "🧰 Tools disponibles: ['add', 'multiply', 'power', 'factorial']\n",
      "➕ Resultado estructurado: {'result': 12}\n",
      "➕ Resultado (texto): 12\n",
      "📚 Resources: [AnyUrl('info://server'), AnyUrl('docs://tools')]\n",
      "📝 Prompts: ['greet_user', 'math_problem', 'explain_concept']\n",
      "📝 get_prompt('greet_user') ->\n",
      "    user : Por favor, escribe un saludo formal y profesional para Ada. El contexto es un servidor MCP educativo.\n"
     ]
    }
   ],
   "source": [
    "\n",
    "import asyncio\n",
    "from mcp import ClientSession, types\n",
    "from mcp.client.streamable_http import streamablehttp_client\n",
    "from pydantic import AnyUrl\n",
    "\n",
    "async def demo_client():\n",
    "    async with streamablehttp_client(\"http://127.0.0.1:8000/mcp\") as (read_stream, write_stream, _):\n",
    "        async with ClientSession(read_stream, write_stream) as session:\n",
    "            # Inicialización del handshake MCP\n",
    "            await session.initialize()\n",
    "            print(\"🔗 Conectado al servidor MCP\")\n",
    "\n",
    "            # 1) Tools\n",
    "            tools = await session.list_tools()\n",
    "            print(\"🧰 Tools disponibles:\", [t.name for t in tools.tools])\n",
    "\n",
    "            # 2) Llamar tool 'add'\n",
    "            result = await session.call_tool(\"add\", arguments={\"a\": 5, \"b\": 7})\n",
    "            # Contenido (texto) y/o salida estructurada\n",
    "            structured = getattr(result, \"structuredContent\", None)\n",
    "            if structured:\n",
    "                print(\"➕ Resultado estructurado:\", structured)\n",
    "            # fallback: texto\n",
    "            for c in result.content:\n",
    "                if isinstance(c, types.TextContent):\n",
    "                    print(\"➕ Resultado (texto):\", c.text)\n",
    "\n",
    "            # 3) Resources\n",
    "            resources = await session.list_resources()\n",
    "            print(\"📚 Resources:\", [r.uri for r in resources.resources])\n",
    "            greeting = await session.read_resource(AnyUrl(\"greeting://Eze\"))\n",
    "            for c in greeting.contents:\n",
    "                if isinstance(c, types.TextContent):\n",
    "                    print(\"📖 greeting://Eze ->\", c.text)\n",
    "\n",
    "            # 4) Prompts\n",
    "            prompts = await session.list_prompts()\n",
    "            print(\"📝 Prompts:\", [p.name for p in prompts.prompts])\n",
    "            if any(p.name == \"greet_user\" for p in prompts.prompts):\n",
    "                prompt = await session.get_prompt(\"greet_user\", arguments={\"name\": \"Ada\", \"style\": \"formal\"})\n",
    "                print(\"📝 get_prompt('greet_user') ->\")\n",
    "                for m in prompt.messages:\n",
    "                    # Mostramos el contenido de los mensajes del prompt\n",
    "                    if isinstance(m.content, types.TextContent):\n",
    "                        print(\"   \", m.role, \":\", m.content.text)\n",
    "\n",
    "await demo_client()\n"
   ]
  },
  {
   "cell_type": "markdown",
   "id": "4f29d410",
   "metadata": {},
   "source": [
    "\n",
    "## 5) Referencias\n",
    "- **Python SDK** oficial (ejemplos de `FastMCP`, clientes y transportes).  \n",
    "- **Quickstarts** de **Server** y **Client**.\n",
    "\n",
    "> Estas páginas se actualizan con frecuencia; revisalas para cambios en nombres de módulos y APIs.\n"
   ]
  },
  {
   "cell_type": "markdown",
   "id": "725486d0",
   "metadata": {},
   "source": [
    "\n",
    "> **Cómo detener el servidor:** este hilo está marcado como `daemon=True`, por lo que se cierra cuando reiniciás/parás el kernel. En un proyecto real, corré el servidor como proceso aparte (CLI) o servicio.\n"
   ]
  }
 ],
 "metadata": {
  "kernelspec": {
   "display_name": "Python 3",
   "language": "python",
   "name": "python3"
  },
  "language_info": {
   "codemirror_mode": {
    "name": "ipython",
    "version": 3
   },
   "file_extension": ".py",
   "mimetype": "text/x-python",
   "name": "python",
   "nbconvert_exporter": "python",
   "pygments_lexer": "ipython3",
   "version": "3.10.15"
  }
 },
 "nbformat": 4,
 "nbformat_minor": 5
}
