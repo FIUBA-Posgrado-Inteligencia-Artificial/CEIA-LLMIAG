{
 "cells": [
  {
   "cell_type": "code",
   "execution_count": 5,
   "metadata": {},
   "outputs": [
    {
     "name": "stdout",
     "output_type": "stream",
     "text": [
      "Cosine Similarity between image and text: 0.20512960851192474\n"
     ]
    }
   ],
   "source": [
    "from transformers import CLIPProcessor, CLIPModel\n",
    "from PIL import Image\n",
    "import torch\n",
    "\n",
    "# Load the pre-trained CLIP model\n",
    "clip_model = CLIPModel.from_pretrained(\"openai/clip-vit-base-patch16\")\n",
    "clip_processor = CLIPProcessor.from_pretrained(\"openai/clip-vit-base-patch16\")\n",
    "\n",
    "# Load an image and text\n",
    "image = Image.open(\"gato2.jpg\")  # Replace with your image\n",
    "text = [\"door\"]  # Example text\n",
    "\n",
    "# Process the image and text\n",
    "inputs = clip_processor(text=text, images=image, return_tensors=\"pt\", padding=True)\n",
    "\n",
    "# Get the embeddings\n",
    "outputs = clip_model(**inputs)\n",
    "image_embeddings = outputs.image_embeds  # Image embedding\n",
    "text_embeddings = outputs.text_embeds  # Text embedding\n",
    "\n",
    "# Normalize the embeddings (optional but recommended for comparing similarity)\n",
    "image_embeddings = image_embeddings / image_embeddings.norm(p=2, dim=-1, keepdim=True)\n",
    "text_embeddings = text_embeddings / text_embeddings.norm(p=2, dim=-1, keepdim=True)\n",
    "\n",
    "# Now you can compare the embeddings or use them for tasks like similarity search\n",
    "similarity = torch.cosine_similarity(image_embeddings, text_embeddings)\n",
    "print(\"Cosine Similarity between image and text:\", similarity.item())\n"
   ]
  },
  {
   "cell_type": "code",
   "execution_count": null,
   "metadata": {},
   "outputs": [],
   "source": []
  }
 ],
 "metadata": {
  "kernelspec": {
   "display_name": "Python 3",
   "language": "python",
   "name": "python3"
  },
  "language_info": {
   "codemirror_mode": {
    "name": "ipython",
    "version": 3
   },
   "file_extension": ".py",
   "mimetype": "text/x-python",
   "name": "python",
   "nbconvert_exporter": "python",
   "pygments_lexer": "ipython3",
   "version": "3.10.15"
  }
 },
 "nbformat": 4,
 "nbformat_minor": 2
}
